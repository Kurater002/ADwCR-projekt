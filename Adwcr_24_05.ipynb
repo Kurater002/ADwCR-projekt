{
 "cells": [
  {
   "cell_type": "markdown",
   "id": "895332a8",
   "metadata": {},
   "source": [
    "### Jak uruchomić strumień danych w jupyterze:\n",
    "\n",
    "1. Uruchom Jupytera - nie tworzyłam folderu, więc jeśli ktoś chce, to musi pozmieniać ścieżki w kodzie (dodając przed nazwą pliku nazwę folderu).\n",
    "2. Otwórz ten plik.\n",
    "3. Odpal fragment kodu \"I. Przygotowanie aplikacji Pythona\".\n",
    "4. Otwórz terminal i wpisz `python currency_generator.py` - powinien powstać folder **dane**, w nim folder **streaming**, gdzie tworzą się jsony. \n",
    "5. Na tym etapie powinniśmy mieć plik z kodem (czyli z całą zawartością tego pliku), aplikację pythona `currency_generator.py`, która powstała po uruchomieniu pierwszej części kodu i folder `dane`, który powstanie po uruchomieniu tejże aplikacji z poziomu terminala.\n",
    "5. Teraz można odpalić resztę kodu - \"II. Utworzenie strumienia danych\" itd.  \n",
    "6. Aby zatrzymać streaming w nowej komórce uruchom:   `query.stop()`\n"
   ]
  },
  {
   "cell_type": "markdown",
   "id": "0a04fb88",
   "metadata": {},
   "source": [
    "### I. Przygotowanie aplikacji pythona\n",
    "Należy odpalić przed rozpoczęciem części Sparkowej"
   ]
  },
  {
   "cell_type": "code",
   "execution_count": null,
   "id": "24e7c1b4",
   "metadata": {},
   "outputs": [],
   "source": [
    "%%file currency_generator.py\n",
    "### 0 Importowanie bibliotek\n",
    "import json, os, random, time\n",
    "from datetime import datetime, timedelta\n",
    "import numpy as np\n",
    "import pandas as pd\n",
    "import requests\n",
    "from dateutil.relativedelta import relativedelta\n",
    "\n",
    "### 1 Konfiguracja katalogu wyjściowego\n",
    "output_dir = \"data/stream\"\n",
    "os.makedirs(output_dir, exist_ok=True)\n",
    "\n",
    "### 2 Pobranie danych historycznych z NBP\n",
    "# 2.1 Ustawienie parametrów\n",
    "waluty = (\"EUR\", \"USD\", \"GBP\")\n",
    "endDate = datetime.today().date()\n",
    "startDate = endDate - relativedelta(years=1)\n",
    "\n",
    "# 2.2 Inicjalizacja DataFrame\n",
    "kurs_walut = pd.DataFrame()\n",
    "\n",
    "# 2.3 Pobieranie danych dla każdej waluty\n",
    "for kod in waluty:\n",
    "    url = f'https://api.nbp.pl/api/exchangerates/rates/c/{kod}/{startDate}/{endDate}/?format=json'\n",
    "    response = requests.get(url)\n",
    "    dane_json = response.json()\n",
    "    dane = pd.DataFrame(dane_json[\"rates\"])[[\"effectiveDate\", \"bid\", \"ask\"]]\n",
    "    dane.rename(columns={\n",
    "        \"bid\": f\"{kod}_bid\",\n",
    "        \"ask\": f\"{kod}_ask\"\n",
    "    }, inplace=True)\n",
    "    dane[\"effectiveDate\"] = pd.to_datetime(dane[\"effectiveDate\"])\n",
    "    if kurs_walut.empty:\n",
    "        kurs_walut = dane\n",
    "    else:\n",
    "        kurs_walut = pd.merge(kurs_walut, dane, on=\"effectiveDate\", how=\"outer\")\n",
    "\n",
    "### 3 Przygotowanie podstawowych statystyk\n",
    "pods_waluty = {}\n",
    "\n",
    "for kurs in kurs_walut.columns[1:]:  \n",
    "    x = kurs_walut[kurs].mean()\n",
    "    y = kurs_walut[kurs].var()\n",
    "    z = kurs_walut.loc[kurs_walut['effectiveDate'].idxmax(), kurs]\n",
    "    pods_waluty[kurs] = (z, x, y)\n",
    "\n",
    "### 4 Funkcja generująca kursy walut\n",
    "def generowanie_kursow(pods_waluty, waluty):\n",
    "    records = []\n",
    "    for waluta in waluty:\n",
    "        for typ in [\"bid\", \"ask\"]:\n",
    "            key = f\"{waluta}_{typ}\"\n",
    "            z, x, y = pods_waluty[key]\n",
    "            zmiana = random.choice([-1, 1])\n",
    "            zmiennosc = np.random.normal(loc=x, scale=np.sqrt(y))\n",
    "            nowy_kurs = round(z + zmiana * 0.001 * zmiennosc, 4)\n",
    "            pods_waluty[key] = (nowy_kurs, x, y)\n",
    "            records.append({\n",
    "                \"timestamp\": datetime.utcnow().isoformat(),\n",
    "                \"waluta\": waluta,\n",
    "                \"typ\": typ,\n",
    "                \"kurs\": nowy_kurs\n",
    "            })\n",
    "    return records\n",
    "\n",
    "### 5 Generowanie i zapisywanie danych strumieniowych\n",
    "while True:\n",
    "    batch = generowanie_kursow(pods_waluty, waluty) \n",
    "    filename = f\"{output_dir}/kursy_{int(time.time())}.json\"\n",
    "    with open(filename, \"w\") as f:\n",
    "        for r in batch:\n",
    "            f.write(json.dumps(r) + \"\\n\")\n",
    "    print(f\"Wrote: {filename}\")\n",
    "    time.sleep(5) \n",
    "\n",
    "print(\"Pliki zapisywane do:\", os.path.abspath(output_dir))"
   ]
  },
  {
   "cell_type": "markdown",
   "id": "07879565",
   "metadata": {},
   "source": [
    "### II. Utworzenie strumienia danych"
   ]
  },
  {
   "cell_type": "code",
   "execution_count": null,
   "id": "f9c8c759",
   "metadata": {},
   "outputs": [],
   "source": [
    "### 0 Przygotowanie środowiska\n",
    "from pyspark.sql import SparkSession\n",
    "from pyspark.sql.types import StructType, StructField, StringType, DoubleType\n",
    "from pyspark.sql.functions import to_timestamp\n",
    "\n",
    "# 0.1 Zainicjowanie sesji Spark\n",
    "spark = SparkSession.builder.getOrCreate()\n",
    "# 0.2 Ukrycie logów typu info/debug\n",
    "spark.sparkContext.setLogLevel(\"WARN\")"
   ]
  },
  {
   "cell_type": "code",
   "execution_count": null,
   "id": "f552ddfc",
   "metadata": {},
   "outputs": [],
   "source": [
    "# 0.3 Definicja schematu danych walutowych\n",
    "schema = StructType([\n",
    "    StructField(\"timestamp\", StringType(), True),\n",
    "    StructField(\"waluta\", StringType(), True),\n",
    "    StructField(\"typ\", StringType(), True),\n",
    "    StructField(\"kurs\", DoubleType(), True),\n",
    "])"
   ]
  },
  {
   "cell_type": "code",
   "execution_count": null,
   "id": "0772311f",
   "metadata": {},
   "outputs": [],
   "source": [
    "### 1 System przetwarzania danych\n",
    "# 1.1 Inicjalizacja licznika przetworzonych pakietów\n",
    "batch_counter = {\"count\": 0}\n",
    "\n",
    "# 1.2 Funkcja przetwarzająca pojedynczy pakiet danych\n",
    "def process_batch(df, batch_id):\n",
    "    batch_counter[\"count\"] += 1\n",
    "    print(f\"Batch ID: {batch_id}\")\n",
    "    df.show(truncate=False)"
   ]
  },
  {
   "cell_type": "code",
   "execution_count": null,
   "id": "d0c6eadd",
   "metadata": {},
   "outputs": [],
   "source": [
    "### 2  Konfiguracja strumienia danych\n",
    "# 2.1 Definicja źródła danych strumieniowych\n",
    "stream = (spark.readStream\n",
    "          .schema(schema)\n",
    "          .json(\"data/stream\"))\n",
    "\n",
    "# 2.2 Uruchomienie przetwarzania strumieniowego\n",
    "query = (stream.writeStream\n",
    "         .foreachBatch(process_batch)\n",
    "         .trigger(processingTime=\"1 second\")  # Interwał odświeżania danych\n",
    "         .start())\n",
    "\n",
    "# 2.3 Utrzymanie działania strumienia\n",
    "query.awaitTermination()"
   ]
  },
  {
   "cell_type": "markdown",
   "id": "b8aa7cc0",
   "metadata": {},
   "source": [
    "### III. Konstrukcja portfela walutowego"
   ]
  },
  {
   "cell_type": "code",
   "execution_count": null,
   "id": "99c0f3e2",
   "metadata": {},
   "outputs": [],
   "source": [
    "### 3 Zarządzanie portfelem walutowym\n",
    "# 3.1 Import wymaganych bibliotek\n",
    "import pandas as pd\n",
    "import requests\n",
    "from datetime import date\n",
    "from dateutil.relativedelta import relativedelta\n",
    "import statsmodels.stats.api as sms\n",
    "import numpy as np"
   ]
  },
  {
   "cell_type": "code",
   "execution_count": null,
   "id": "945013f6",
   "metadata": {},
   "outputs": [],
   "source": [
    "# 3.2 Definicja klasy portfela walutowego\n",
    "class PortfelWaluty: \n",
    "    def __init__(self, PLN, EUR, GBP, USD):\n",
    "        for waluta, wartosc in zip([\"PLN\", \"EUR\", \"GBP\", \"USD\"], [PLN, EUR, GBP, USD]):\n",
    "            assert isinstance(wartosc, (int, float)), f\"{waluta} musi być liczbą\"\n",
    "\n",
    "        self.portfel = {\n",
    "            \"PLN\": PLN,\n",
    "            \"EUR\": EUR,\n",
    "            \"GBP\": GBP,\n",
    "            \"USD\": USD\n",
    "        }\n",
    "\n",
    "    def wymiana_walut(self, waluta_z, waluta_do, kwota, kurs):\n",
    "        if waluta_z not in self.portfel or waluta_do not in self.portfel:\n",
    "            print(\"Nieprawidłowa waluta.\")\n",
    "            return\n",
    "\n",
    "        if self.portfel[waluta_z] < kwota:\n",
    "            print(f\"Za mało środków w {waluta_z}.\")\n",
    "            return\n",
    "\n",
    "        # Odejmij z jednej waluty, dodaj do drugiej\n",
    "        self.portfel[waluta_z] -= kwota\n",
    "        self.portfel[waluta_do] += round(kwota / kurs, 2)\n",
    "\n",
    "    def pokaz_portfel(self):\n",
    "        print(\"Twój portfel:\")\n",
    "        for waluta, kwota in self.portfel.items():\n",
    "            print(f\"{waluta}: {kwota:.2f}\")"
   ]
  },
  {
   "cell_type": "code",
   "execution_count": null,
   "id": "bed96f6a",
   "metadata": {},
   "outputs": [],
   "source": [
    "# 3.3 Inicjalizacja portfela z przykładowymi wartościami początkowymi\n",
    "Portfel = PortfelWaluty(1000,0,0,0)"
   ]
  }
 ],
 "metadata": {
  "kernelspec": {
   "display_name": "Python 3",
   "language": "python",
   "name": "python3"
  },
  "language_info": {
   "codemirror_mode": {
    "name": "ipython",
    "version": 3
   },
   "file_extension": ".py",
   "mimetype": "text/x-python",
   "name": "python",
   "nbconvert_exporter": "python",
   "pygments_lexer": "ipython3",
   "version": "3.11.9"
  }
 },
 "nbformat": 4,
 "nbformat_minor": 5
}
